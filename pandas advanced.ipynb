{
 "cells": [
  {
   "cell_type": "markdown",
   "id": "96b27d33-57bb-4513-85e0-b05bcb7158e4",
   "metadata": {},
   "source": [
    "Q1. List any five functions of the pandas library with execution.\n"
   ]
  },
  {
   "cell_type": "code",
   "execution_count": 3,
   "id": "6ce180d7-a674-49d2-a8d2-bdfe1645ccdd",
   "metadata": {},
   "outputs": [],
   "source": [
    "###ANS- read_csv(): Reads a CSV file into a DataFrame.\n",
    "import pandas as pd\n",
    "df = pd.read_csv('taxonomy.csv.xls')\n"
   ]
  },
  {
   "cell_type": "code",
   "execution_count": 4,
   "id": "33f2d2b5-0058-4a77-b8ce-93af4abcfce2",
   "metadata": {},
   "outputs": [
    {
     "name": "stdout",
     "output_type": "stream",
     "text": [
      "  taxonomy_id                     name parent_id     parent_name\n",
      "0         101                Emergency       NaN             NaN\n",
      "1      101-01        Disaster Response       101       Emergency\n",
      "2      101-02           Emergency Cash       101       Emergency\n",
      "3   101-02-01        Help Pay for Food    101-02  Emergency Cash\n",
      "4   101-02-02  Help Pay for Healthcare    101-02  Emergency Cash\n"
     ]
    }
   ],
   "source": [
    "###head(): Returns the first n rows of the DataFrame (default n=5).\n",
    "\n",
    "print(df.head())\n"
   ]
  },
  {
   "cell_type": "code",
   "execution_count": 6,
   "id": "e4d2b8f4-bfb8-41c2-a7b6-c7d6a5f5e6fb",
   "metadata": {},
   "outputs": [],
   "source": [
    "###groupby(): Groups DataFrame using a mapper or by a Series of columns.\n",
    "\n",
    "grouped = df.groupby('parent_name')\n"
   ]
  },
  {
   "cell_type": "markdown",
   "id": "755e440a-9a90-471b-927f-3f0d21bfeec1",
   "metadata": {},
   "source": [
    "###merge(): Merge DataFrame or named Series objects with a database-style join.\n",
    "\n",
    "\n",
    "merged_df = pd.merge(df1, df2, on='taxonomy_id')\n"
   ]
  },
  {
   "cell_type": "code",
   "execution_count": 11,
   "id": "0c51675b-a600-488b-a1cb-36685033c4b0",
   "metadata": {},
   "outputs": [],
   "source": [
    "###dropna(): Removes missing values (NaN) from the DataFrame\n",
    "\n",
    "df.dropna(inplace=True)\n"
   ]
  },
  {
   "cell_type": "markdown",
   "id": "d1b6c79c-a7ed-4aca-ae87-dc3b4d1fad28",
   "metadata": {},
   "source": [
    "Q2. Re-indexing a DataFrame with a new index starting from 1 and incrementing by 2 for each row"
   ]
  },
  {
   "cell_type": "code",
   "execution_count": 12,
   "id": "b8a10927-41fd-4379-adf8-d7ce369ff3dd",
   "metadata": {},
   "outputs": [
    {
     "name": "stdout",
     "output_type": "stream",
     "text": [
      "Q2:\n",
      "   A  B  C\n",
      "1  1  4  7\n",
      "3  2  5  8\n",
      "5  3  6  9\n"
     ]
    }
   ],
   "source": [
    "import pandas as pd\n",
    "\n",
    "def reindex_dataframe(df):\n",
    "    new_index = pd.Series(range(1, len(df)*2, 2))  # Creating new index starting from 1, incrementing by 2\n",
    "    df.index = new_index  # Assigning new index to DataFrame\n",
    "    return df\n",
    "\n",
    "# Example usage:\n",
    "df = pd.DataFrame({'A': [1, 2, 3], 'B': [4, 5, 6], 'C': [7, 8, 9]})\n",
    "df_reindexed = reindex_dataframe(df)\n",
    "print(\"Q2:\")\n",
    "print(df_reindexed)\n"
   ]
  },
  {
   "cell_type": "markdown",
   "id": "38c19207-079f-467b-96f3-eaba04061060",
   "metadata": {},
   "source": [
    "Q3. Summing the first three values in the 'Values' column of a DataFrame"
   ]
  },
  {
   "cell_type": "code",
   "execution_count": 13,
   "id": "18b32114-e910-461e-99cc-f8428b5c0710",
   "metadata": {},
   "outputs": [
    {
     "name": "stdout",
     "output_type": "stream",
     "text": [
      "Sum of the first three values: 60\n"
     ]
    }
   ],
   "source": [
    "import pandas as pd\n",
    "\n",
    "def sum_first_three(df):\n",
    "    sum_values = df['Values'].head(3).sum()\n",
    "    print(\"Sum of the first three values:\", sum_values)\n",
    "\n",
    "# Example usage:\n",
    "df = pd.DataFrame({'Values': [10, 20, 30, 40, 50]})\n",
    "sum_first_three(df)\n"
   ]
  },
  {
   "cell_type": "markdown",
   "id": "58f23448-ea58-408d-9ed5-f043aa6f5886",
   "metadata": {},
   "source": [
    "Q4. Creating a new column 'Word_Count' in a DataFrame based on the number of words in 'Text'"
   ]
  },
  {
   "cell_type": "code",
   "execution_count": 14,
   "id": "df3f115d-9b4f-4b40-995b-b39dbc45f7b8",
   "metadata": {},
   "outputs": [
    {
     "name": "stdout",
     "output_type": "stream",
     "text": [
      "Q4:\n",
      "                 Text  Word_Count\n",
      "0         Hello world           2\n",
      "1  Python programming           2\n",
      "2       Data analysis           2\n"
     ]
    }
   ],
   "source": [
    "import pandas as pd\n",
    "\n",
    "def add_word_count(df):\n",
    "    df['Word_Count'] = df['Text'].apply(lambda x: len(str(x).split()))\n",
    "    return df\n",
    "\n",
    "# Example usage:\n",
    "df = pd.DataFrame({'Text': ['Hello world', 'Python programming', 'Data analysis']})\n",
    "df = add_word_count(df)\n",
    "print(\"Q4:\")\n",
    "print(df)\n"
   ]
  },
  {
   "cell_type": "markdown",
   "id": "c7af6e36-b3a6-4b5c-8d32-fddeb3b44856",
   "metadata": {},
   "source": [
    "Q5. Difference between DataFrame.size() and DataFrame.shape()\n",
    "\n",
    "DataFrame.size: Returns the number of elements in the DataFrame (rows * columns).\n",
    "DataFrame.shape: Returns a tuple representing the dimensions of the DataFrame (rows, columns)."
   ]
  },
  {
   "cell_type": "markdown",
   "id": "dfdc03d6-845c-4079-95b5-02ceed2030b2",
   "metadata": {},
   "source": [
    "Q6. Function to read an Excel file using pandas"
   ]
  },
  {
   "cell_type": "code",
   "execution_count": 16,
   "id": "35175c39-3442-4945-ac97-5e1531afe0e0",
   "metadata": {},
   "outputs": [],
   "source": [
    "import pandas as pd\n",
    "\n",
    "# Example to read an Excel file\n",
    "df = pd.read_excel('flight_price.xlsx', sheet_name='Sheet1')\n"
   ]
  },
  {
   "cell_type": "markdown",
   "id": "c8540a8a-7ffc-4007-bc20-d5653d00846b",
   "metadata": {},
   "source": [
    "Q7. Creating a new 'Username' column from an 'Email' column in a DataFrame"
   ]
  },
  {
   "cell_type": "code",
   "execution_count": 17,
   "id": "75ef4700-5161-442d-a393-820b1d22d5af",
   "metadata": {},
   "outputs": [
    {
     "name": "stdout",
     "output_type": "stream",
     "text": [
      "Q7:\n",
      "                    Email    Username\n",
      "0    john.doe@example.com    john.doe\n",
      "1  jane.smith@example.com  jane.smith\n"
     ]
    }
   ],
   "source": [
    "import pandas as pd\n",
    "\n",
    "def extract_username(df):\n",
    "    df['Username'] = df['Email'].apply(lambda x: x.split('@')[0])\n",
    "    return df\n",
    "\n",
    "# Example usage:\n",
    "df = pd.DataFrame({'Email': ['john.doe@example.com', 'jane.smith@example.com']})\n",
    "df = extract_username(df)\n",
    "print(\"Q7:\")\n",
    "print(df)\n"
   ]
  },
  {
   "cell_type": "markdown",
   "id": "3bdc92a7-f813-4862-8735-b3a6bd326ff5",
   "metadata": {},
   "source": [
    "Q8. Selecting rows from a DataFrame based on conditions"
   ]
  },
  {
   "cell_type": "code",
   "execution_count": 18,
   "id": "ee87632b-aac1-4946-a13f-059c3d55ba40",
   "metadata": {},
   "outputs": [
    {
     "name": "stdout",
     "output_type": "stream",
     "text": [
      "Q8:\n",
      "   A  B  C\n",
      "1  8  2  7\n",
      "2  6  9  4\n",
      "4  9  1  2\n"
     ]
    }
   ],
   "source": [
    "import pandas as pd\n",
    "\n",
    "def select_rows(df):\n",
    "    selected_rows = df[(df['A'] > 5) & (df['B'] < 10)]\n",
    "    return selected_rows\n",
    "\n",
    "# Example usage:\n",
    "df = pd.DataFrame({'A': [3, 8, 6, 2, 9], 'B': [5, 2, 9, 3, 1], 'C': [1, 7, 4, 5, 2]})\n",
    "selected_df = select_rows(df)\n",
    "print(\"Q8:\")\n",
    "print(selected_df)\n"
   ]
  },
  {
   "cell_type": "markdown",
   "id": "52567709-3761-4a84-a166-69e39f9da11e",
   "metadata": {},
   "source": [
    "In this example, select_rows() filters the rows where column 'A' is greater than 5 and column 'B' is less than 10, returning a new DataFrame with only the selected rows.\n",
    "\n",
    "\n",
    "\n"
   ]
  },
  {
   "cell_type": "code",
   "execution_count": null,
   "id": "1e189c65-7fe9-48c8-a4c9-4296fc1d5d2f",
   "metadata": {},
   "outputs": [],
   "source": []
  }
 ],
 "metadata": {
  "kernelspec": {
   "display_name": "Python 3 (ipykernel)",
   "language": "python",
   "name": "python3"
  },
  "language_info": {
   "codemirror_mode": {
    "name": "ipython",
    "version": 3
   },
   "file_extension": ".py",
   "mimetype": "text/x-python",
   "name": "python",
   "nbconvert_exporter": "python",
   "pygments_lexer": "ipython3",
   "version": "3.10.8"
  }
 },
 "nbformat": 4,
 "nbformat_minor": 5
}
