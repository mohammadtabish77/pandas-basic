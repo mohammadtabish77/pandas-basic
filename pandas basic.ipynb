{
 "cells": [
  {
   "cell_type": "markdown",
   "id": "2280bda8-cc37-41e7-b166-7e4d6f13ffcf",
   "metadata": {},
   "source": [
    "Q1: Create a Pandas Series and print it"
   ]
  },
  {
   "cell_type": "code",
   "execution_count": 1,
   "id": "ed68bd4c-9c9f-4fdf-a465-2bba44e4a862",
   "metadata": {},
   "outputs": [
    {
     "name": "stdout",
     "output_type": "stream",
     "text": [
      "Q1:\n",
      "0     4\n",
      "1     8\n",
      "2    15\n",
      "3    16\n",
      "4    23\n",
      "5    42\n",
      "dtype: int64\n"
     ]
    }
   ],
   "source": [
    "import pandas as pd\n",
    "\n",
    "# Creating a Pandas Series\n",
    "series1 = pd.Series([4, 8, 15, 16, 23, 42])\n",
    "\n",
    "# Printing the series\n",
    "print(\"Q1:\")\n",
    "print(series1)\n"
   ]
  },
  {
   "cell_type": "markdown",
   "id": "088fedd4-3903-4823-a4b4-3aed0e91c93e",
   "metadata": {},
   "source": [
    "Q2: Create a list and convert it to a Pandas Series, then print the Series"
   ]
  },
  {
   "cell_type": "code",
   "execution_count": 2,
   "id": "59c36087-b957-4ef1-b750-bf7b9b7f6a99",
   "metadata": {},
   "outputs": [
    {
     "name": "stdout",
     "output_type": "stream",
     "text": [
      "\n",
      "Q2:\n",
      "0     10\n",
      "1     20\n",
      "2     30\n",
      "3     40\n",
      "4     50\n",
      "5     60\n",
      "6     70\n",
      "7     80\n",
      "8     90\n",
      "9    100\n",
      "dtype: int64\n"
     ]
    }
   ],
   "source": [
    "# Creating a list with 10 elements\n",
    "my_list = [10, 20, 30, 40, 50, 60, 70, 80, 90, 100]\n",
    "\n",
    "# Converting list to Pandas Series\n",
    "series2 = pd.Series(my_list)\n",
    "\n",
    "# Printing the series\n",
    "print(\"\\nQ2:\")\n",
    "print(series2)\n"
   ]
  },
  {
   "cell_type": "markdown",
   "id": "b728d5a4-716d-40f1-b7bf-719dbeb7ff69",
   "metadata": {},
   "source": [
    "Q3. Create a Pandas DataFrame that contains the following data:"
   ]
  },
  {
   "cell_type": "code",
   "execution_count": 6,
   "id": "d5788aac-afac-48f8-928d-692ce934d0fd",
   "metadata": {},
   "outputs": [
    {
     "name": "stdout",
     "output_type": "stream",
     "text": [
      "Q3:\n",
      "     Name  Age  Gender\n",
      "0   Alice   25  Female\n",
      "1     Bob   30    Male\n",
      "2  Claire   27  Female\n"
     ]
    }
   ],
   "source": [
    "import pandas as pd\n",
    "\n",
    "# Creating the data using a dictionary\n",
    "data = {\n",
    "    'Name': ['Alice', 'Bob', 'Claire'],\n",
    "    'Age': [25, 30, 27],\n",
    "    'Gender': ['Female', 'Male', 'Female']\n",
    "}\n",
    "\n",
    "# Creating the DataFrame\n",
    "df = pd.DataFrame(data)\n",
    "\n",
    "# Printing the DataFrame\n",
    "print(\"Q3:\")\n",
    "print(df)\n"
   ]
  },
  {
   "cell_type": "markdown",
   "id": "433d131f-7ebc-4524-a3cd-3838b0aa3cc3",
   "metadata": {},
   "source": [
    "In this example:\n",
    "- The keys in the `data` dictionary (`Name`, `Age`, `Gender`) correspond to column names in the DataFrame.\n",
    "- The values associated with each key are lists containing the respective data for each row.\n",
    "- Pandas automatically aligns the data based on index position to create the DataFrame where each row represents an individual's information.\n",
    "\n",
    "This DataFrame `df` has three columns (`Name`, `Age`, `Gender`) and three rows, each corresponding to the data provided."
   ]
  },
  {
   "cell_type": "markdown",
   "id": "5ca6dac6-5671-4b25-9c0e-49e6eea1146a",
   "metadata": {},
   "source": [
    "Q4: What is a 'DataFrame' in pandas and how is it different from 'Series'? Explain with an example."
   ]
  },
  {
   "cell_type": "markdown",
   "id": "551bb5d5-35ad-4739-b857-abd0d77ccf57",
   "metadata": {},
   "source": [
    "ANS\n",
    "\n",
    "\n",
    "- Series: A Series is a one-dimensional labeled array capable of holding data of any type (integer, string, float, etc.). It is essentially a single column of data.\n",
    "\n",
    "- DataFrame: A DataFrame is a two-dimensional labeled data structure with columns of potentially different types. It is similar to a table in a relational database or a spreadsheet with rows and columns."
   ]
  },
  {
   "cell_type": "code",
   "execution_count": 3,
   "id": "3fc4c506-75ff-421a-98ad-11de6885e2e0",
   "metadata": {},
   "outputs": [
    {
     "name": "stdout",
     "output_type": "stream",
     "text": [
      "\n",
      "Example DataFrame:\n",
      "      Name  Age         City\n",
      "0    Alice   25     New York\n",
      "1      Bob   30  Los Angeles\n",
      "2  Charlie   35      Chicago\n"
     ]
    }
   ],
   "source": [
    "#EXAMPLE\n",
    "\n",
    "# Creating a DataFrame\n",
    "data = {\n",
    "    'Name': ['Alice', 'Bob', 'Charlie'],\n",
    "    'Age': [25, 30, 35],\n",
    "    'City': ['New York', 'Los Angeles', 'Chicago']\n",
    "}\n",
    "df = pd.DataFrame(data)\n",
    "\n",
    "# Printing the DataFrame\n",
    "print(\"\\nExample DataFrame:\")\n",
    "print(df)\n"
   ]
  },
  {
   "cell_type": "markdown",
   "id": "2ccf5760-0564-4245-b3f8-0ffd9a5bd1b7",
   "metadata": {},
   "source": [
    "In this example:\n",
    "\n",
    "Each column (Name, Age, City) is a Series.\n",
    "df is a DataFrame that holds these Series"
   ]
  },
  {
   "cell_type": "markdown",
   "id": "2130903d-071e-47c2-bc15-2a16e58b2a25",
   "metadata": {},
   "source": [
    "Q5: Common functions to manipulate data in a Pandas DataFrame"
   ]
  },
  {
   "cell_type": "markdown",
   "id": "7337cb94-1d47-4eaa-85db-6035d7fd50cd",
   "metadata": {},
   "source": [
    "ANS\n",
    "\n",
    "Some common functions include:\n",
    "\n",
    "head() and tail(): View the first or last few rows.\n",
    "describe(): Generate descriptive statistics.\n",
    "loc[] and iloc[]: Access a group of rows and columns by label(s) or integer(s).\n",
    "drop(): Drop specified labels from rows or columns.\n",
    "groupby(): Group DataFrame using a mapper or by a Series of columns.\n",
    "merge(): Merge DataFrame objects by performing a database-style join operation."
   ]
  },
  {
   "cell_type": "code",
   "execution_count": 4,
   "id": "9579a4ea-0900-4df2-b4b4-ca24c1b7ec60",
   "metadata": {},
   "outputs": [
    {
     "name": "stdout",
     "output_type": "stream",
     "text": [
      "\n",
      "Q5:\n",
      "Head of DataFrame:\n",
      "      Name  Age         City\n",
      "0    Alice   25     New York\n",
      "1      Bob   30  Los Angeles\n",
      "2  Charlie   35      Chicago\n",
      "\n",
      "Description of DataFrame:\n",
      "        Age\n",
      "count   3.0\n",
      "mean   30.0\n",
      "std     5.0\n",
      "min    25.0\n",
      "25%    27.5\n",
      "50%    30.0\n",
      "75%    32.5\n",
      "max    35.0\n"
     ]
    }
   ],
   "source": [
    "# Example of using head() and describe()\n",
    "print(\"\\nQ5:\")\n",
    "print(\"Head of DataFrame:\")\n",
    "print(df.head())\n",
    "print(\"\\nDescription of DataFrame:\")\n",
    "print(df.describe())\n"
   ]
  },
  {
   "cell_type": "markdown",
   "id": "ff464b51-366d-4db3-92ec-ebbd927b6b37",
   "metadata": {},
   "source": [
    "Q6: Mutable nature of Series, DataFrame, and Panel\n",
    "\n",
    "ANS--Series: Immutable. Once a Series is created, its data cannot be changed.\n",
    "DataFrame: Mutable. You can modify the contents of a DataFrame, including adding or deleting columns and rows.\n",
    "Panel: Deprecated in recent versions of pandas. Previously, it was a three-dimensional data structure, but now it's recommended to use MultiIndex DataFrame or xarray."
   ]
  },
  {
   "cell_type": "markdown",
   "id": "8e94fb7d-c1fa-4342-b810-6c08fce736e4",
   "metadata": {},
   "source": [
    "Q7: Create a DataFrame using multiple Series"
   ]
  },
  {
   "cell_type": "code",
   "execution_count": 5,
   "id": "934b7557-de98-4d0d-8493-c0d37412e122",
   "metadata": {},
   "outputs": [
    {
     "name": "stdout",
     "output_type": "stream",
     "text": [
      "\n",
      "Q7:\n",
      "DataFrame created from multiple Series:\n",
      "      Name  Age         City\n",
      "0    Alice   25     New York\n",
      "1      Bob   30  Los Angeles\n",
      "2  Charlie   35      Chicago\n"
     ]
    }
   ],
   "source": [
    "# Creating multiple Series\n",
    "names = pd.Series(['Alice', 'Bob', 'Charlie'])\n",
    "ages = pd.Series([25, 30, 35])\n",
    "cities = pd.Series(['New York', 'Los Angeles', 'Chicago'])\n",
    "\n",
    "# Creating a DataFrame using the above Series\n",
    "data = {\n",
    "    'Name': names,\n",
    "    'Age': ages,\n",
    "    'City': cities\n",
    "}\n",
    "df_multiple_series = pd.DataFrame(data)\n",
    "\n",
    "# Printing the DataFrame created from multiple Series\n",
    "print(\"\\nQ7:\")\n",
    "print(\"DataFrame created from multiple Series:\")\n",
    "print(df_multiple_series)\n"
   ]
  },
  {
   "cell_type": "markdown",
   "id": "a675f22e-3d3f-4c79-9673-151ee9eb92ff",
   "metadata": {},
   "source": [
    "In this example:\n",
    "\n",
    "names, ages, and cities are individual Series.\n",
    "The data dictionary contains these Series with their respective column names (Name, Age, City).\n",
    "df_multiple_series is the DataFrame created using these Series.\n",
    "Each row in the DataFrame corresponds to a set of values from the corresponding indices of the Series, creating a structured table-like format."
   ]
  },
  {
   "cell_type": "code",
   "execution_count": null,
   "id": "e23345f1-721a-447f-91d1-7a6cf81c9a09",
   "metadata": {},
   "outputs": [],
   "source": []
  }
 ],
 "metadata": {
  "kernelspec": {
   "display_name": "Python 3 (ipykernel)",
   "language": "python",
   "name": "python3"
  },
  "language_info": {
   "codemirror_mode": {
    "name": "ipython",
    "version": 3
   },
   "file_extension": ".py",
   "mimetype": "text/x-python",
   "name": "python",
   "nbconvert_exporter": "python",
   "pygments_lexer": "ipython3",
   "version": "3.10.8"
  }
 },
 "nbformat": 4,
 "nbformat_minor": 5
}
