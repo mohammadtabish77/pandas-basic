{
 "cells": [
  {
   "cell_type": "code",
   "execution_count": 1,
   "id": "1a8bcfba-2c4b-40dc-9b71-208b3eba2b16",
   "metadata": {},
   "outputs": [],
   "source": [
    "import pandas as pd\n",
    "\n",
    "course_name = ['Data Science', 'Machine Learning', 'Big Data', 'Data Engineer']\n",
    "duration = [2, 3, 6, 4]\n",
    "\n",
    "df = pd.DataFrame(data={'course_name': course_name, 'duration': duration})\n"
   ]
  },
  {
   "cell_type": "markdown",
   "id": "b8c8b675-4a06-46ee-93ae-cdb218d61ef8",
   "metadata": {},
   "source": [
    "Q1. Print the data present in the second row of the DataFrame df"
   ]
  },
  {
   "cell_type": "code",
   "execution_count": 2,
   "id": "e7f27889-a6ab-45bb-af54-a0697a0614db",
   "metadata": {},
   "outputs": [
    {
     "name": "stdout",
     "output_type": "stream",
     "text": [
      "Q1:\n",
      "Data in the second row:\n",
      "course_name    Machine Learning\n",
      "duration                      3\n",
      "Name: 1, dtype: object\n"
     ]
    }
   ],
   "source": [
    "# Using iloc to access the second row (index 1)\n",
    "row_data = df.iloc[1]\n",
    "print(\"Q1:\")\n",
    "print(\"Data in the second row:\")\n",
    "print(row_data)\n"
   ]
  },
  {
   "cell_type": "markdown",
   "id": "7e354382-d9e0-4b22-9d03-0dd800e3f7fb",
   "metadata": {},
   "source": [
    "Q2. Difference between loc and iloc in pandas.DataFrame\n",
    "\n",
    " - loc: Accesses rows and columns by label(s). It allows you to access a group of rows and columns by labels or a boolean array.\n",
    "\n",
    "Syntax: df.loc[row_label(s), column_label(s)]"
   ]
  },
  {
   "cell_type": "code",
   "execution_count": 5,
   "id": "eeb429eb-1a9e-42db-82d8-f23ecd1d76ba",
   "metadata": {},
   "outputs": [],
   "source": [
    "# Accessing a specific row by label\n",
    "row_data = df.loc[1]  # Accesses the row with label 1\n"
   ]
  },
  {
   "cell_type": "markdown",
   "id": "a38bb585-55fd-4ddc-a5e1-6d838f02f334",
   "metadata": {},
   "source": [
    "iloc: Accesses rows and columns by integer position(s). It allows you to access a group of rows and columns by integer position.\n",
    "\n",
    "Syntax: df.iloc[row_index(s), column_index(s)]"
   ]
  },
  {
   "cell_type": "code",
   "execution_count": 6,
   "id": "f17bc29e-c99c-418e-9842-8526ac3ea43f",
   "metadata": {},
   "outputs": [],
   "source": [
    "# Accessing a specific row by integer index\n",
    "row_data = df.iloc[1]  # Accesses the row at integer index 1 (second row)\n"
   ]
  },
  {
   "cell_type": "markdown",
   "id": "f1ee9f5e-086b-4f08-9028-796dd033668f",
   "metadata": {},
   "source": [
    "Key Differences:\n",
    "\n",
    "Label vs Integer Indexing: loc uses labels of rows/columns to access data, while iloc uses integer positions (index).\n",
    "Inclusive vs Exclusive Slicing: loc includes the end label in slicing (start_label:end_label), while iloc is exclusive (start_index:end_index).\n",
    "Boolean Masking: loc supports boolean masking based on labels, allowing complex selection, while iloc uses integer positions directly.\n",
    "In summary, use loc when accessing data by labels and iloc when accessing data by integer positions. Understanding these methods is crucial for effective data manipulation and extraction in pandas DataFrames."
   ]
  },
  {
   "cell_type": "markdown",
   "id": "24336ecb-1cdd-4363-b0b0-627dcd1fb091",
   "metadata": {},
   "source": [
    "Q3. Reindexing the DataFrame and observing differences between loc and iloc"
   ]
  },
  {
   "cell_type": "code",
   "execution_count": 7,
   "id": "1c3242e0-e283-4be4-bd89-99011898bec1",
   "metadata": {},
   "outputs": [
    {
     "name": "stdout",
     "output_type": "stream",
     "text": [
      "Q3:\n",
      "Reindexed DataFrame:\n",
      "   column_1  column_2  column_3  column_4  column_5  column_6\n",
      "3  0.044299  0.731713  0.836830  0.584646  0.339173  0.190029\n",
      "0       NaN       NaN       NaN       NaN       NaN       NaN\n",
      "1  0.783913  0.543979  0.324727  0.081938  0.513842  0.802574\n",
      "2  0.117026  0.099091  0.332617  0.880404  0.929829  0.303387\n",
      "5  0.601757  0.123159  0.008813  0.373725  0.977235  0.926087\n",
      "4  0.799171  0.700024  0.318473  0.501290  0.429955  0.143683\n",
      "\n",
      "Using loc:\n",
      "column_1    0.117026\n",
      "column_2    0.099091\n",
      "column_3    0.332617\n",
      "column_4    0.880404\n",
      "column_5    0.929829\n",
      "column_6    0.303387\n",
      "Name: 2, dtype: float64\n",
      "\n",
      "Using iloc:\n",
      "column_1    0.783913\n",
      "column_2    0.543979\n",
      "column_3    0.324727\n",
      "column_4    0.081938\n",
      "column_5    0.513842\n",
      "column_6    0.802574\n",
      "Name: 1, dtype: float64\n"
     ]
    }
   ],
   "source": [
    "import pandas as pd\n",
    "import numpy as np\n",
    "\n",
    "# Original DataFrame\n",
    "columns = ['column_1', 'column_2', 'column_3', 'column_4', 'column_5', 'column_6']\n",
    "indices = [1, 2, 3, 4, 5, 6]\n",
    "df1 = pd.DataFrame(np.random.rand(6, 6), columns=columns, index=indices)\n",
    "\n",
    "# Reindexing using the provided order\n",
    "reindex = [3, 0, 1, 2, 5, 4]\n",
    "new_df = df1.reindex(reindex)\n",
    "\n",
    "# Printing the new DataFrame\n",
    "print(\"Q3:\")\n",
    "print(\"Reindexed DataFrame:\")\n",
    "print(new_df)\n",
    "\n",
    "# Accessing row at index 2 using loc\n",
    "print(\"\\nUsing loc:\")\n",
    "print(new_df.loc[2])\n",
    "\n",
    "# Accessing row at index 2 using iloc\n",
    "print(\"\\nUsing iloc:\")\n",
    "print(new_df.iloc[2])\n"
   ]
  },
  {
   "cell_type": "markdown",
   "id": "dfc3a390-abfc-445e-bdf1-19717cb09731",
   "metadata": {},
   "source": [
    "Observations:\n",
    "\n",
    "loc[2] accesses the row where the index label is 2 in the DataFrame new_df. After reindexing, 2 now corresponds to the row that originally had the index 1 in df1.\n",
    "\n",
    "iloc[2] accesses the row at the integer index 2 in the DataFrame new_df after reindexing. In this case, it corresponds to the third row (index 2 in zero-based indexing) in new_df.\n",
    "\n",
    "Difference:\n",
    "\n",
    "The difference observed is due to the nature of loc and iloc:\n",
    "\n",
    "loc accesses rows based on their labels (in this case, the index labels after reindexing).\n",
    "iloc accesses rows based on their integer positions (zero-based, regardless of the index labels).\n",
    "Therefore, even after reindexing, loc retrieves data based on the new index labels, while iloc retrieves data based on the new integer positions. This difference is crucial depending on whether you are referring to rows by their labels or their positions in the DataFrame.\n",
    "\n",
    "Now, let's proceed with further questions based on the provided DataFrame df1."
   ]
  },
  {
   "cell_type": "code",
   "execution_count": 8,
   "id": "7b12949c-79fc-4f4a-9e07-481792b63f7a",
   "metadata": {},
   "outputs": [],
   "source": [
    "import pandas as pd\n",
    "import numpy as np\n",
    "\n",
    "columns = ['column_1', 'column_2', 'column_3', 'column_4', 'column_5', 'column_6']\n",
    "indices = [1, 2, 3, 4, 5, 6]\n",
    "\n",
    "# Creating a DataFrame:\n",
    "df1 = pd.DataFrame(np.random.rand(6, 6), columns=columns, index=indices)\n"
   ]
  },
  {
   "cell_type": "markdown",
   "id": "16c73d3d-f4cf-4cab-984a-c033c90716f2",
   "metadata": {},
   "source": [
    "Q4. Statistical measurements for df1\n",
    "\n",
    "(i) Mean of each and every column present in the DataFrame df1"
   ]
  },
  {
   "cell_type": "code",
   "execution_count": 9,
   "id": "671ea501-2b26-4cf5-8d39-2409f428f931",
   "metadata": {},
   "outputs": [
    {
     "name": "stdout",
     "output_type": "stream",
     "text": [
      "Q4(i):\n",
      "Mean of each column:\n",
      "column_1    0.403352\n",
      "column_2    0.364336\n",
      "column_3    0.414385\n",
      "column_4    0.578939\n",
      "column_5    0.289357\n",
      "column_6    0.505776\n",
      "dtype: float64\n"
     ]
    }
   ],
   "source": [
    "# Mean of each column\n",
    "print(\"Q4(i):\")\n",
    "print(\"Mean of each column:\")\n",
    "print(df1.mean())\n"
   ]
  },
  {
   "cell_type": "markdown",
   "id": "f74c9808-5020-4664-a2c5-1c9d647e3a7f",
   "metadata": {},
   "source": [
    "(ii) Standard deviation of column column_2\n"
   ]
  },
  {
   "cell_type": "code",
   "execution_count": 11,
   "id": "0766ae21-a874-4bdb-8491-53fb9424c0ff",
   "metadata": {},
   "outputs": [
    {
     "name": "stdout",
     "output_type": "stream",
     "text": [
      "\n",
      "Q4(ii):\n",
      "Standard deviation of column_2: 0.3536906303610671\n"
     ]
    }
   ],
   "source": [
    "# Standard deviation of column_2\n",
    "print(\"\\nQ4(ii):\")\n",
    "print(\"Standard deviation of column_2:\", df1['column_2'].std())\n"
   ]
  },
  {
   "cell_type": "markdown",
   "id": "686b01d9-7040-452c-a565-e9d0dc1611b5",
   "metadata": {},
   "source": [
    "Q5. Replace the data present in the second row of column column_2 with a string variable and find the mean of column_2"
   ]
  },
  {
   "cell_type": "code",
   "execution_count": 12,
   "id": "953ccccd-8731-4c74-bdbe-be773cf594a8",
   "metadata": {},
   "outputs": [
    {
     "name": "stdout",
     "output_type": "stream",
     "text": [
      "Error occurred: unsupported operand type(s) for +: 'float' and 'str'\n"
     ]
    }
   ],
   "source": [
    "# Replace data in the second row of column_2 with a string\n",
    "df1.loc[2, 'column_2'] = 'StringData'\n",
    "\n",
    "# Attempt to calculate mean of column_2\n",
    "try:\n",
    "    mean_column_2 = df1['column_2'].mean()\n",
    "    print(\"\\nQ5:\")\n",
    "    print(\"Mean of column_2 after replacement:\", mean_column_2)\n",
    "except TypeError as e:\n",
    "    print(\"Error occurred:\", e)\n"
   ]
  },
  {
   "cell_type": "markdown",
   "id": "97956751-b4b6-4ae3-976e-7204b3c90587",
   "metadata": {},
   "source": [
    "Explanation:\n",
    "\n",
    "You cannot calculate the mean of a numerical column (column_2) if it contains non-numeric data (in this case, a string 'StringData'). Pandas tries to convert all values to numeric when calculating the mean, but it cannot convert a string to a numeric value (float in this case)."
   ]
  },
  {
   "cell_type": "markdown",
   "id": "72e75455-ee19-4028-b36c-b22651c50224",
   "metadata": {},
   "source": [
    "Q6. \n",
    "\n",
    "\n",
    "ANS - Windows function in pandas and types of windows functions\n",
    "In pandas, window functions are used for performing calculations over a specified window of data, typically used in time series or sequential data analysis. They operate on a sliding or rolling window of data points and can compute various statistics or transformations.\n",
    "\n",
    "Types of window functions:\n",
    "\n",
    "Rolling functions: Compute aggregations (like mean, sum, etc.) over a fixed-size window of data points as it moves through the data.\n",
    "\n",
    "Expanding functions: Compute aggregations that expand the window size over time, including all data points up to the current point.\n",
    "\n",
    "Exponential weighted functions: Compute exponentially weighted statistics, giving more weight to recent observations."
   ]
  },
  {
   "cell_type": "markdown",
   "id": "e3520c6a-6f3f-4c62-a283-7798b634e713",
   "metadata": {},
   "source": [
    "Q7. Print the current month and year using pandas datetime function"
   ]
  },
  {
   "cell_type": "code",
   "execution_count": 13,
   "id": "83701ecf-70b7-420e-bc96-1d8754d3672e",
   "metadata": {},
   "outputs": [
    {
     "name": "stdout",
     "output_type": "stream",
     "text": [
      "\n",
      "Q7:\n",
      "Current month and year: July 2024\n"
     ]
    }
   ],
   "source": [
    "import pandas as pd\n",
    "\n",
    "# Getting current month and year\n",
    "current_date = pd.Timestamp.now()\n",
    "current_month_year = current_date.strftime(\"%B %Y\")\n",
    "\n",
    "print(\"\\nQ7:\")\n",
    "print(\"Current month and year:\", current_month_year)\n"
   ]
  },
  {
   "cell_type": "markdown",
   "id": "24e718d7-b6e2-4594-8e35-a3b99da880a9",
   "metadata": {},
   "source": [
    "Q8. Calculate the difference between two dates in days, hours, and minutes using Pandas timedelta"
   ]
  },
  {
   "cell_type": "code",
   "execution_count": 14,
   "id": "0adb80eb-e695-4967-9a51-a715813c68f2",
   "metadata": {},
   "outputs": [
    {
     "name": "stdin",
     "output_type": "stream",
     "text": [
      "Enter first date (YYYY-MM-DD):  2002-05-05\n",
      "Enter second date (YYYY-MM-DD):  2001-05-05\n"
     ]
    },
    {
     "name": "stdout",
     "output_type": "stream",
     "text": [
      "\n",
      "Q8:\n",
      "Difference between 2002-05-05 00:00:00 and 2001-05-05 00:00:00:\n",
      "Days: -365, Hours: 0, Minutes: 0\n"
     ]
    }
   ],
   "source": [
    "import pandas as pd\n",
    "\n",
    "# Function to calculate difference between two dates\n",
    "def calculate_time_difference(date1, date2):\n",
    "    try:\n",
    "        # Convert input strings to pandas Timestamp objects\n",
    "        date1 = pd.Timestamp(date1)\n",
    "        date2 = pd.Timestamp(date2)\n",
    "        \n",
    "        # Calculate timedelta between the two dates\n",
    "        time_diff = date2 - date1\n",
    "        \n",
    "        # Extract days, hours, and minutes\n",
    "        days = time_diff.days\n",
    "        hours = time_diff.seconds // 3600\n",
    "        minutes = (time_diff.seconds % 3600) // 60\n",
    "        \n",
    "        print(\"\\nQ8:\")\n",
    "        print(f\"Difference between {date1} and {date2}:\")\n",
    "        print(f\"Days: {days}, Hours: {hours}, Minutes: {minutes}\")\n",
    "        \n",
    "    except ValueError as e:\n",
    "        print(\"ValueError:\", e)\n",
    "\n",
    "# Example usage:\n",
    "date1 = input(\"Enter first date (YYYY-MM-DD): \")\n",
    "date2 = input(\"Enter second date (YYYY-MM-DD): \")\n",
    "\n",
    "calculate_time_difference(date1, date2)\n"
   ]
  },
  {
   "cell_type": "markdown",
   "id": "864e84c1-c68d-456f-bb5a-a1687367278f",
   "metadata": {},
   "source": [
    "This program calculates and displays the difference between two dates in days, hours, and minutes using pandas' Timedelta functionality. Adjust the input format as needed when entering the dates."
   ]
  },
  {
   "cell_type": "markdown",
   "id": "f0f9359b-aa86-46f0-8617-be0b7ba63547",
   "metadata": {},
   "source": [
    "Q9. Convert a specified column in a CSV file to categorical data type and display sorted data"
   ]
  },
  {
   "cell_type": "code",
   "execution_count": null,
   "id": "16816d4e-a382-41f7-8c8d-5aaebb5b1542",
   "metadata": {},
   "outputs": [],
   "source": [
    "import pandas as pd\n",
    "\n",
    "def convert_to_categorical(file_path, column_name, category_order):\n",
    "    try:\n",
    "        # Read the CSV file\n",
    "        df = pd.read_csv(file_path)\n",
    "        \n",
    "        # Convert specified column to categorical data type\n",
    "        df[column_name] = pd.Categorical(df[column_name], categories=category_order, ordered=True)\n",
    "        \n",
    "        # Sort data based on the categorical column\n",
    "        sorted_df = df.sort_values(by=column_name)\n",
    "        \n",
    "        # Display sorted data\n",
    "        print(\"\\nSorted Data:\")\n",
    "        print(sorted_df)\n",
    "        \n",
    "    except FileNotFoundError:\n",
    "        print(f\"File '{file_path}' not found.\")\n",
    "    except KeyError:\n",
    "        print(f\"Column '{column_name}' not found in the DataFrame.\")\n",
    "\n",
    "# Example usage:\n",
    "file_path = input(\"Enter the file path to the CSV file: \")\n",
    "column_name = input(\"Enter the column name to convert to categorical data type: \")\n",
    "category_order = input(\"Enter the category order (comma-separated): \").split(',')\n",
    "\n",
    "# Call the function\n",
    "convert_to_categorical(file_path, column_name, category_order)\n"
   ]
  },
  {
   "cell_type": "markdown",
   "id": "563feb63-44a5-4292-af2e-52fa734e966a",
   "metadata": {},
   "source": [
    "Explanation:\n",
    "\n",
    "This program reads a CSV file specified by the user, converts a specified column to a categorical data type using pd.Categorical, and then sorts the DataFrame based on this column.\n",
    "It handles errors such as file not found (FileNotFoundError) and column not found (KeyError)."
   ]
  },
  {
   "cell_type": "markdown",
   "id": "f919d531-5a05-43e4-bf10-55e2319f91bb",
   "metadata": {},
   "source": [
    "Q10. Visualize sales data using a stacked bar chart from a CSV file"
   ]
  },
  {
   "cell_type": "code",
   "execution_count": null,
   "id": "1d756c0d-5a35-4099-99d7-7cccb96da0d8",
   "metadata": {},
   "outputs": [],
   "source": [
    "import pandas as pd\n",
    "import matplotlib.pyplot as plt\n",
    "\n",
    "def visualize_sales_data(file_path):\n",
    "    try:\n",
    "        # Read the CSV file\n",
    "        df = pd.read_csv(file_path)\n",
    "        \n",
    "        # Assuming the CSV file has columns 'Product Category' and 'Sales'\n",
    "        # Group by 'Product Category' and sum up 'Sales' for each category\n",
    "        category_sales = df.groupby('Product Category')['Sales'].sum().reset_index()\n",
    "        \n",
    "        # Pivot the DataFrame for plotting a stacked bar chart\n",
    "        pivot_df = category_sales.pivot(index='Product Category', columns=None, values='Sales')\n",
    "        \n",
    "        # Plotting stacked bar chart\n",
    "        pivot_df.plot(kind='bar', stacked=True, figsize=(10, 6))\n",
    "        \n",
    "        # Customize the plot\n",
    "        plt.title('Sales of Each Product Category')\n",
    "        plt.xlabel('Product Category')\n",
    "        plt.ylabel('Sales')\n",
    "        plt.xticks(rotation=45)\n",
    "        plt.legend(loc='upper right')\n",
    "        plt.show()\n",
    "        \n",
    "    except FileNotFoundError:\n",
    "        print(f\"File '{file_path}' not found.\")\n",
    "\n",
    "# Example usage:\n",
    "file_path = input(\"Enter the file path to the CSV file: \")\n",
    "\n",
    "# Call the function\n",
    "visualize_sales_data(file_path)\n"
   ]
  },
  {
   "cell_type": "markdown",
   "id": "1b640b4d-fc1c-4e5b-83b9-860845c1440b",
   "metadata": {},
   "source": [
    "Explanation:\n",
    "\n",
    "This program reads a CSV file containing sales data, groups the data by 'Product Category', and calculates the total sales for each category.\n",
    "It then pivots the data to prepare for a stacked bar chart using pivot.\n",
    "The stacked bar chart is plotted using matplotlib, showing sales for each product category over time.\n",
    "It handles errors such as file not found (FileNotFoundError)."
   ]
  },
  {
   "cell_type": "code",
   "execution_count": 3,
   "id": "c0178f6e-25d8-4d65-b8eb-8e636bd4c4ef",
   "metadata": {},
   "outputs": [
    {
     "name": "stdout",
     "output_type": "stream",
     "text": [
      "Collecting tabulate\n",
      "  Downloading tabulate-0.9.0-py3-none-any.whl (35 kB)\n",
      "Installing collected packages: tabulate\n",
      "Successfully installed tabulate-0.9.0\n",
      "Note: you may need to restart the kernel to use updated packages.\n"
     ]
    }
   ],
   "source": [
    "pip install tabulate"
   ]
  },
  {
   "cell_type": "code",
   "execution_count": 2,
   "id": "d48d420c-1598-47b9-8995-e5945af7bd69",
   "metadata": {},
   "outputs": [
    {
     "name": "stdout",
     "output_type": "stream",
     "text": [
      "CSV file 'student_data.csv' has been created successfully.\n"
     ]
    }
   ],
   "source": [
    "import csv\n",
    "\n",
    "# Data to be written to the CSV file\n",
    "data = [\n",
    "    {\"Student ID\": 1, \"Test Score\": 85},\n",
    "    {\"Student ID\": 2, \"Test Score\": 90},\n",
    "    {\"Student ID\": 3, \"Test Score\": 80},\n",
    "    {\"Student ID\": 4, \"Test Score\": 75},\n",
    "    {\"Student ID\": 5, \"Test Score\": 85},\n",
    "    {\"Student ID\": 6, \"Test Score\": 82},\n",
    "    {\"Student ID\": 7, \"Test Score\": 78},\n",
    "    {\"Student ID\": 8, \"Test Score\": 85},\n",
    "    {\"Student ID\": 9, \"Test Score\": 90},\n",
    "    {\"Student ID\": 10, \"Test Score\": 85}\n",
    "]\n",
    "\n",
    "# CSV file path\n",
    "file_path = \"student_data.csv\"\n",
    "\n",
    "# Write data to the CSV file\n",
    "with open(file_path, mode='w', newline='') as file:\n",
    "    writer = csv.DictWriter(file, fieldnames=[\"Student ID\", \"Test Score\"])\n",
    "    \n",
    "    # Write headers\n",
    "    writer.writeheader()\n",
    "    \n",
    "    # Write rows\n",
    "    writer.writerows(data)\n",
    "\n",
    "print(f\"CSV file '{file_path}' has been created successfully.\")\n"
   ]
  },
  {
   "cell_type": "code",
   "execution_count": null,
   "id": "2afd8fd4-b9fe-482f-9781-38452a2ea355",
   "metadata": {},
   "outputs": [],
   "source": []
  },
  {
   "cell_type": "code",
   "execution_count": 1,
   "id": "0124570c-515a-49ae-8ee9-18ae90cd5e01",
   "metadata": {},
   "outputs": [
    {
     "name": "stdin",
     "output_type": "stream",
     "text": [
      "Enter the file path of the CSV file containing the student data:  student_data.csv\n"
     ]
    },
    {
     "name": "stdout",
     "output_type": "stream",
     "text": [
      "File 'student_data.csv' not found.\n"
     ]
    }
   ],
   "source": [
    "##Q11\n",
    "\n",
    "import pandas as pd\n",
    "from tabulate import tabulate\n",
    "\n",
    "def calculate_statistics(file_path):\n",
    "    try:\n",
    "        # Read the CSV file into a DataFrame\n",
    "        df = pd.read_csv(file_path)\n",
    "        \n",
    "        # Calculate mean, median, and mode of the 'Test Score' column\n",
    "        mean_score = df['Test Score'].mean()\n",
    "        median_score = df['Test Score'].median()\n",
    "        mode_scores = df['Test Score'].mode().tolist()\n",
    "        \n",
    "        # Prepare the results in a table format\n",
    "        results = [\n",
    "            {\"Statistic\": \"Mean\", \"Value\": mean_score},\n",
    "            {\"Statistic\": \"Median\", \"Value\": median_score},\n",
    "            {\"Statistic\": \"Mode\", \"Value\": ', '.join(map(str, mode_scores))}\n",
    "        ]\n",
    "        \n",
    "        # Display results using tabulate for a neat table\n",
    "        print(\"\\n\" + tabulate(results, headers=\"keys\", tablefmt=\"grid\"))\n",
    "        \n",
    "    except FileNotFoundError:\n",
    "        print(f\"File '{file_path}' not found.\")\n",
    "    except KeyError:\n",
    "        print(\"CSV file does not contain 'Test Score' column.\")\n",
    "\n",
    "# Example usage:\n",
    "if __name__ == \"__main__\":\n",
    "    file_path = input(\"Enter the file path of the CSV file containing the student data: \")\n",
    "    calculate_statistics(file_path)\n"
   ]
  },
  {
   "cell_type": "markdown",
   "id": "28453030-e78a-495f-98c5-5d2f1be81d3f",
   "metadata": {},
   "source": [
    "Explanation:\n",
    "Import Libraries:\n",
    "\n",
    "pandas is used to read the CSV file and perform data manipulation.\n",
    "tabulate is used to format the output into a nice table.\n",
    "Function calculate_statistics:\n",
    "\n",
    "Takes file_path as input, reads the CSV file into a DataFrame (df).\n",
    "Calculates the mean, median, and mode of the 'Test Score' column using pandas methods:\n",
    "mean(): Computes the arithmetic mean of the data.\n",
    "median(): Finds the median value.\n",
    "mode(): Calculates the mode(s), which may return multiple values if there are ties.\n",
    "Prepares the results in a structured dictionary format (results).\n",
    "Output Formatting:\n",
    "\n",
    "Uses tabulate to format the results dictionary into a grid-style table with headers.\n",
    "Error Handling:\n",
    "\n",
    "Handles FileNotFoundError if the specified CSV file path is incorrect or file doesn't exist.\n",
    "Handles KeyError in case the 'Test Score' column is missing in the CSV file.\n",
    "Example Usage:\n",
    "\n",
    "Prompts the user to enter the file path of the CSV file containing student data.\n",
    "Calls calculate_statistics with the provided file path."
   ]
  },
  {
   "cell_type": "code",
   "execution_count": null,
   "id": "c9167464-45ac-402b-8e24-2ea892ecfcb1",
   "metadata": {},
   "outputs": [],
   "source": []
  }
 ],
 "metadata": {
  "kernelspec": {
   "display_name": "Python 3 (ipykernel)",
   "language": "python",
   "name": "python3"
  },
  "language_info": {
   "codemirror_mode": {
    "name": "ipython",
    "version": 3
   },
   "file_extension": ".py",
   "mimetype": "text/x-python",
   "name": "python",
   "nbconvert_exporter": "python",
   "pygments_lexer": "ipython3",
   "version": "3.10.8"
  }
 },
 "nbformat": 4,
 "nbformat_minor": 5
}
